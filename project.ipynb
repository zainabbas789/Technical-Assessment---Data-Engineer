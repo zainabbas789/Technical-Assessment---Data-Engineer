{
 "cells": [
  {
   "cell_type": "code",
   "execution_count": 6,
   "id": "ba5ecf84",
   "metadata": {},
   "outputs": [],
   "source": [
    "import sqlite3\n",
    "con = sqlite3.connect(\"hospitals_data.db\")\n",
    "cur = con.cursor()"
   ]
  },
  {
   "cell_type": "code",
   "execution_count": 13,
   "id": "3e56a09e",
   "metadata": {},
   "outputs": [
    {
     "name": "stdout",
     "output_type": "stream",
     "text": [
      "table is created\n"
     ]
    }
   ],
   "source": [
    "cur.execute(\"CREATE TABLE customerss (Customer_Name VARCHAR(255)  NOT NULL, Customer_Id VARCHAR(18) NOT NULL, Open_Date DATE(8) NOT NULL, Last_Consulted_Date DATE(8),Vaccination_Id CHAR(5),Dr_Name CHAR(255),State CHAR(5),Country CHAR(5),DOB DATE(8),Is_Active CHAR(1),PRIMARY KEY(Customer_Name))\")\n",
    "print(\"table is created\")"
   ]
  },
  {
   "cell_type": "code",
   "execution_count": 14,
   "id": "cd9b5fc7",
   "metadata": {},
   "outputs": [
    {
     "name": "stdout",
     "output_type": "stream",
     "text": [
      "5 row inserted\n"
     ]
    }
   ],
   "source": [
    "sql = \"INSERT INTO customerss (Customer_Name,Customer_Id,Open_Date,Last_Consulted_Date,Vaccination_Id,Dr_Name,State,Country,DOB,Is_Active) VALUES (?, ?, ?, ?, ?, ?, ?, ?, ?, ?)\"\n",
    "val = [('Alex', '123457','2010-10-12','2012-10-13', 'MVD', 'Paul', 'SA', 'USA','06-03-1987', 'A'),\n",
    "       (\"John\",\"123458\",'2010-10-12','2012-10-13',\"MVD\",\"Paul\",\"TN\",\"IND\",'06-03-1987',\"A\"),\n",
    "       (\"Mathew\",\"123459\",'2010-10-12','2012-10-13',\"MVD\",\"Paul\",\"WAS\",\"PHIL\",'06-03-1987',\"A\"),\n",
    "       (\"Matt\",\"12345\",'2010-10-12','2012-10-13',\"MVD\",\"Paul\",\"BOS\",\"NYC\",'06-03-1987',\"A\"),\n",
    "       (\"Jacob\",\"1256\",'2010-10-12','2012-10-13',\"MVD\",\"Paul\",\"VIC\",\"AU\",'06-03-1987',\"A\")]\n",
    "cur.executemany(sql,val)\n",
    "con.commit()\n",
    "print(cur.rowcount,\"row inserted\")"
   ]
  },
  {
   "cell_type": "code",
   "execution_count": 15,
   "id": "7e169972",
   "metadata": {},
   "outputs": [
    {
     "name": "stdout",
     "output_type": "stream",
     "text": [
      "connected\n"
     ]
    },
    {
     "data": {
      "text/html": [
       "<div>\n",
       "<style scoped>\n",
       "    .dataframe tbody tr th:only-of-type {\n",
       "        vertical-align: middle;\n",
       "    }\n",
       "\n",
       "    .dataframe tbody tr th {\n",
       "        vertical-align: top;\n",
       "    }\n",
       "\n",
       "    .dataframe thead th {\n",
       "        text-align: right;\n",
       "    }\n",
       "</style>\n",
       "<table border=\"1\" class=\"dataframe\">\n",
       "  <thead>\n",
       "    <tr style=\"text-align: right;\">\n",
       "      <th></th>\n",
       "      <th>Customer_Name</th>\n",
       "      <th>Customer_Id</th>\n",
       "      <th>Open_Date</th>\n",
       "      <th>Last_Consulted_Date</th>\n",
       "      <th>Vaccination_Id</th>\n",
       "      <th>Dr_Name</th>\n",
       "      <th>State</th>\n",
       "      <th>Country</th>\n",
       "      <th>DOB</th>\n",
       "      <th>Is_Active</th>\n",
       "    </tr>\n",
       "  </thead>\n",
       "  <tbody>\n",
       "    <tr>\n",
       "      <th>0</th>\n",
       "      <td>Alex</td>\n",
       "      <td>123457</td>\n",
       "      <td>2010-10-12</td>\n",
       "      <td>2012-10-13</td>\n",
       "      <td>MVD</td>\n",
       "      <td>Paul</td>\n",
       "      <td>SA</td>\n",
       "      <td>USA</td>\n",
       "      <td>06-03-1987</td>\n",
       "      <td>A</td>\n",
       "    </tr>\n",
       "    <tr>\n",
       "      <th>1</th>\n",
       "      <td>John</td>\n",
       "      <td>123458</td>\n",
       "      <td>2010-10-12</td>\n",
       "      <td>2012-10-13</td>\n",
       "      <td>MVD</td>\n",
       "      <td>Paul</td>\n",
       "      <td>TN</td>\n",
       "      <td>IND</td>\n",
       "      <td>06-03-1987</td>\n",
       "      <td>A</td>\n",
       "    </tr>\n",
       "    <tr>\n",
       "      <th>2</th>\n",
       "      <td>Mathew</td>\n",
       "      <td>123459</td>\n",
       "      <td>2010-10-12</td>\n",
       "      <td>2012-10-13</td>\n",
       "      <td>MVD</td>\n",
       "      <td>Paul</td>\n",
       "      <td>WAS</td>\n",
       "      <td>PHIL</td>\n",
       "      <td>06-03-1987</td>\n",
       "      <td>A</td>\n",
       "    </tr>\n",
       "    <tr>\n",
       "      <th>3</th>\n",
       "      <td>Matt</td>\n",
       "      <td>12345</td>\n",
       "      <td>2010-10-12</td>\n",
       "      <td>2012-10-13</td>\n",
       "      <td>MVD</td>\n",
       "      <td>Paul</td>\n",
       "      <td>BOS</td>\n",
       "      <td>NYC</td>\n",
       "      <td>06-03-1987</td>\n",
       "      <td>A</td>\n",
       "    </tr>\n",
       "    <tr>\n",
       "      <th>4</th>\n",
       "      <td>Jacob</td>\n",
       "      <td>1256</td>\n",
       "      <td>2010-10-12</td>\n",
       "      <td>2012-10-13</td>\n",
       "      <td>MVD</td>\n",
       "      <td>Paul</td>\n",
       "      <td>VIC</td>\n",
       "      <td>AU</td>\n",
       "      <td>06-03-1987</td>\n",
       "      <td>A</td>\n",
       "    </tr>\n",
       "  </tbody>\n",
       "</table>\n",
       "</div>"
      ],
      "text/plain": [
       "  Customer_Name Customer_Id   Open_Date Last_Consulted_Date Vaccination_Id  \\\n",
       "0          Alex      123457  2010-10-12          2012-10-13            MVD   \n",
       "1          John      123458  2010-10-12          2012-10-13            MVD   \n",
       "2        Mathew      123459  2010-10-12          2012-10-13            MVD   \n",
       "3          Matt       12345  2010-10-12          2012-10-13            MVD   \n",
       "4         Jacob        1256  2010-10-12          2012-10-13            MVD   \n",
       "\n",
       "  Dr_Name State Country         DOB Is_Active  \n",
       "0    Paul    SA     USA  06-03-1987         A  \n",
       "1    Paul    TN     IND  06-03-1987         A  \n",
       "2    Paul   WAS    PHIL  06-03-1987         A  \n",
       "3    Paul   BOS     NYC  06-03-1987         A  \n",
       "4    Paul   VIC      AU  06-03-1987         A  "
      ]
     },
     "execution_count": 15,
     "metadata": {},
     "output_type": "execute_result"
    }
   ],
   "source": [
    "#connection with sqlite \n",
    "import pandas as pd\n",
    "con = sqlite3.connect(\"hospitals_data.db\")\n",
    "print(\"connected\")\n",
    "\n",
    "df = pd.read_sql_query(\"SELECT * from customerss\", con)\n",
    "df"
   ]
  },
  {
   "cell_type": "code",
   "execution_count": 18,
   "id": "443a70f2",
   "metadata": {},
   "outputs": [
    {
     "data": {
      "text/plain": [
       "array(['USA', 'IND', 'PHIL', 'NYC', 'AU'], dtype=object)"
      ]
     },
     "execution_count": 18,
     "metadata": {},
     "output_type": "execute_result"
    }
   ],
   "source": [
    "contry_list=df['Country'].unique()\n",
    "contry_list"
   ]
  },
  {
   "cell_type": "code",
   "execution_count": null,
   "id": "cd25a8fa",
   "metadata": {},
   "outputs": [],
   "source": [
    "#df1=pd.read_sql_query(\"CREATE TABLE \"+ contry_list[0] +\" AS Select Customer_Name,Customer_Id,Open_Date,Last_Consulted_Date,Vaccination_Id,Dr_Name,State,Country,DOB,Is_Active From customers Where Country == \"+contry_list[0], con)"
   ]
  },
  {
   "cell_type": "code",
   "execution_count": 19,
   "id": "84e59088",
   "metadata": {},
   "outputs": [
    {
     "name": "stdout",
     "output_type": "stream",
     "text": [
      "USA\n",
      "Tbl is creatd for USA\n",
      "IND\n",
      "Tbl is creatd for IND\n",
      "PHIL\n",
      "Tbl is creatd for PHIL\n",
      "NYC\n",
      "Tbl is creatd for NYC\n",
      "AU\n",
      "Tbl is creatd for AU\n"
     ]
    }
   ],
   "source": [
    "\n",
    "for country in contry_list:\n",
    "    print(country)\n",
    "    cur.execute(\"CREATE TABLE \"+ country +\" AS Select Customer_Name,Customer_Id,Open_Date,Last_Consulted_Date,Vaccination_Id,Dr_Name,State,Country,DOB,Is_Active From customerss Where Country =='\"+country+\"' Order by Customer_Id\")\n",
    "    print(\"Tbl is creatd for\",country)\n",
    "    con.commit()"
   ]
  },
  {
   "cell_type": "code",
   "execution_count": 20,
   "id": "095780ee",
   "metadata": {},
   "outputs": [
    {
     "data": {
      "text/html": [
       "<div>\n",
       "<style scoped>\n",
       "    .dataframe tbody tr th:only-of-type {\n",
       "        vertical-align: middle;\n",
       "    }\n",
       "\n",
       "    .dataframe tbody tr th {\n",
       "        vertical-align: top;\n",
       "    }\n",
       "\n",
       "    .dataframe thead th {\n",
       "        text-align: right;\n",
       "    }\n",
       "</style>\n",
       "<table border=\"1\" class=\"dataframe\">\n",
       "  <thead>\n",
       "    <tr style=\"text-align: right;\">\n",
       "      <th></th>\n",
       "      <th>Customer_Name</th>\n",
       "      <th>Customer_Id</th>\n",
       "      <th>Open_Date</th>\n",
       "      <th>Last_Consulted_Date</th>\n",
       "      <th>Vaccination_Id</th>\n",
       "      <th>Dr_Name</th>\n",
       "      <th>State</th>\n",
       "      <th>Country</th>\n",
       "      <th>DOB</th>\n",
       "      <th>Is_Active</th>\n",
       "    </tr>\n",
       "  </thead>\n",
       "  <tbody>\n",
       "    <tr>\n",
       "      <th>0</th>\n",
       "      <td>Alex</td>\n",
       "      <td>123457</td>\n",
       "      <td>2010-10-12</td>\n",
       "      <td>2012-10-13</td>\n",
       "      <td>MVD</td>\n",
       "      <td>Paul</td>\n",
       "      <td>SA</td>\n",
       "      <td>USA</td>\n",
       "      <td>06-03-1987</td>\n",
       "      <td>A</td>\n",
       "    </tr>\n",
       "  </tbody>\n",
       "</table>\n",
       "</div>"
      ],
      "text/plain": [
       "  Customer_Name Customer_Id   Open_Date Last_Consulted_Date Vaccination_Id  \\\n",
       "0          Alex      123457  2010-10-12          2012-10-13            MVD   \n",
       "\n",
       "  Dr_Name State Country         DOB Is_Active  \n",
       "0    Paul    SA     USA  06-03-1987         A  "
      ]
     },
     "execution_count": 20,
     "metadata": {},
     "output_type": "execute_result"
    }
   ],
   "source": [
    "\n",
    "df = pd.read_sql_query(\"SELECT * from USA\", con)\n",
    "df"
   ]
  },
  {
   "cell_type": "code",
   "execution_count": 21,
   "id": "7dcc5276",
   "metadata": {},
   "outputs": [
    {
     "data": {
      "text/html": [
       "<div>\n",
       "<style scoped>\n",
       "    .dataframe tbody tr th:only-of-type {\n",
       "        vertical-align: middle;\n",
       "    }\n",
       "\n",
       "    .dataframe tbody tr th {\n",
       "        vertical-align: top;\n",
       "    }\n",
       "\n",
       "    .dataframe thead th {\n",
       "        text-align: right;\n",
       "    }\n",
       "</style>\n",
       "<table border=\"1\" class=\"dataframe\">\n",
       "  <thead>\n",
       "    <tr style=\"text-align: right;\">\n",
       "      <th></th>\n",
       "      <th>Customer_Name</th>\n",
       "      <th>Customer_Id</th>\n",
       "      <th>Open_Date</th>\n",
       "      <th>Last_Consulted_Date</th>\n",
       "      <th>Vaccination_Id</th>\n",
       "      <th>Dr_Name</th>\n",
       "      <th>State</th>\n",
       "      <th>Country</th>\n",
       "      <th>DOB</th>\n",
       "      <th>Is_Active</th>\n",
       "    </tr>\n",
       "  </thead>\n",
       "  <tbody>\n",
       "    <tr>\n",
       "      <th>0</th>\n",
       "      <td>John</td>\n",
       "      <td>123458</td>\n",
       "      <td>2010-10-12</td>\n",
       "      <td>2012-10-13</td>\n",
       "      <td>MVD</td>\n",
       "      <td>Paul</td>\n",
       "      <td>TN</td>\n",
       "      <td>IND</td>\n",
       "      <td>06-03-1987</td>\n",
       "      <td>A</td>\n",
       "    </tr>\n",
       "  </tbody>\n",
       "</table>\n",
       "</div>"
      ],
      "text/plain": [
       "  Customer_Name Customer_Id   Open_Date Last_Consulted_Date Vaccination_Id  \\\n",
       "0          John      123458  2010-10-12          2012-10-13            MVD   \n",
       "\n",
       "  Dr_Name State Country         DOB Is_Active  \n",
       "0    Paul    TN     IND  06-03-1987         A  "
      ]
     },
     "execution_count": 21,
     "metadata": {},
     "output_type": "execute_result"
    }
   ],
   "source": [
    "\n",
    "df = pd.read_sql_query(\"SELECT * from IND\", con)\n",
    "df"
   ]
  },
  {
   "cell_type": "code",
   "execution_count": 22,
   "id": "e4bcda79",
   "metadata": {},
   "outputs": [
    {
     "data": {
      "text/html": [
       "<div>\n",
       "<style scoped>\n",
       "    .dataframe tbody tr th:only-of-type {\n",
       "        vertical-align: middle;\n",
       "    }\n",
       "\n",
       "    .dataframe tbody tr th {\n",
       "        vertical-align: top;\n",
       "    }\n",
       "\n",
       "    .dataframe thead th {\n",
       "        text-align: right;\n",
       "    }\n",
       "</style>\n",
       "<table border=\"1\" class=\"dataframe\">\n",
       "  <thead>\n",
       "    <tr style=\"text-align: right;\">\n",
       "      <th></th>\n",
       "      <th>Customer_Name</th>\n",
       "      <th>Customer_Id</th>\n",
       "      <th>Open_Date</th>\n",
       "      <th>Last_Consulted_Date</th>\n",
       "      <th>Vaccination_Id</th>\n",
       "      <th>Dr_Name</th>\n",
       "      <th>State</th>\n",
       "      <th>Country</th>\n",
       "      <th>DOB</th>\n",
       "      <th>Is_Active</th>\n",
       "    </tr>\n",
       "  </thead>\n",
       "  <tbody>\n",
       "    <tr>\n",
       "      <th>0</th>\n",
       "      <td>Mathew</td>\n",
       "      <td>123459</td>\n",
       "      <td>2010-10-12</td>\n",
       "      <td>2012-10-13</td>\n",
       "      <td>MVD</td>\n",
       "      <td>Paul</td>\n",
       "      <td>WAS</td>\n",
       "      <td>PHIL</td>\n",
       "      <td>06-03-1987</td>\n",
       "      <td>A</td>\n",
       "    </tr>\n",
       "  </tbody>\n",
       "</table>\n",
       "</div>"
      ],
      "text/plain": [
       "  Customer_Name Customer_Id   Open_Date Last_Consulted_Date Vaccination_Id  \\\n",
       "0        Mathew      123459  2010-10-12          2012-10-13            MVD   \n",
       "\n",
       "  Dr_Name State Country         DOB Is_Active  \n",
       "0    Paul   WAS    PHIL  06-03-1987         A  "
      ]
     },
     "execution_count": 22,
     "metadata": {},
     "output_type": "execute_result"
    }
   ],
   "source": [
    "\n",
    "df = pd.read_sql_query(\"SELECT * from PHIL\", con)\n",
    "df"
   ]
  },
  {
   "cell_type": "code",
   "execution_count": 25,
   "id": "af40359e",
   "metadata": {},
   "outputs": [
    {
     "data": {
      "text/html": [
       "<div>\n",
       "<style scoped>\n",
       "    .dataframe tbody tr th:only-of-type {\n",
       "        vertical-align: middle;\n",
       "    }\n",
       "\n",
       "    .dataframe tbody tr th {\n",
       "        vertical-align: top;\n",
       "    }\n",
       "\n",
       "    .dataframe thead th {\n",
       "        text-align: right;\n",
       "    }\n",
       "</style>\n",
       "<table border=\"1\" class=\"dataframe\">\n",
       "  <thead>\n",
       "    <tr style=\"text-align: right;\">\n",
       "      <th></th>\n",
       "      <th>Customer_Name</th>\n",
       "      <th>Customer_Id</th>\n",
       "      <th>Open_Date</th>\n",
       "      <th>Last_Consulted_Date</th>\n",
       "      <th>Vaccination_Id</th>\n",
       "      <th>Dr_Name</th>\n",
       "      <th>State</th>\n",
       "      <th>Country</th>\n",
       "      <th>DOB</th>\n",
       "      <th>Is_Active</th>\n",
       "    </tr>\n",
       "  </thead>\n",
       "  <tbody>\n",
       "    <tr>\n",
       "      <th>0</th>\n",
       "      <td>Matt</td>\n",
       "      <td>12345</td>\n",
       "      <td>2010-10-12</td>\n",
       "      <td>2012-10-13</td>\n",
       "      <td>MVD</td>\n",
       "      <td>Paul</td>\n",
       "      <td>BOS</td>\n",
       "      <td>NYC</td>\n",
       "      <td>06-03-1987</td>\n",
       "      <td>A</td>\n",
       "    </tr>\n",
       "  </tbody>\n",
       "</table>\n",
       "</div>"
      ],
      "text/plain": [
       "  Customer_Name Customer_Id   Open_Date Last_Consulted_Date Vaccination_Id  \\\n",
       "0          Matt       12345  2010-10-12          2012-10-13            MVD   \n",
       "\n",
       "  Dr_Name State Country         DOB Is_Active  \n",
       "0    Paul   BOS     NYC  06-03-1987         A  "
      ]
     },
     "execution_count": 25,
     "metadata": {},
     "output_type": "execute_result"
    }
   ],
   "source": [
    "\n",
    "df = pd.read_sql_query(\"SELECT * from NYC\", con)\n",
    "df"
   ]
  },
  {
   "cell_type": "code",
   "execution_count": 24,
   "id": "91b3254e",
   "metadata": {},
   "outputs": [
    {
     "data": {
      "text/html": [
       "<div>\n",
       "<style scoped>\n",
       "    .dataframe tbody tr th:only-of-type {\n",
       "        vertical-align: middle;\n",
       "    }\n",
       "\n",
       "    .dataframe tbody tr th {\n",
       "        vertical-align: top;\n",
       "    }\n",
       "\n",
       "    .dataframe thead th {\n",
       "        text-align: right;\n",
       "    }\n",
       "</style>\n",
       "<table border=\"1\" class=\"dataframe\">\n",
       "  <thead>\n",
       "    <tr style=\"text-align: right;\">\n",
       "      <th></th>\n",
       "      <th>Customer_Name</th>\n",
       "      <th>Customer_Id</th>\n",
       "      <th>Open_Date</th>\n",
       "      <th>Last_Consulted_Date</th>\n",
       "      <th>Vaccination_Id</th>\n",
       "      <th>Dr_Name</th>\n",
       "      <th>State</th>\n",
       "      <th>Country</th>\n",
       "      <th>DOB</th>\n",
       "      <th>Is_Active</th>\n",
       "    </tr>\n",
       "  </thead>\n",
       "  <tbody>\n",
       "    <tr>\n",
       "      <th>0</th>\n",
       "      <td>Jacob</td>\n",
       "      <td>1256</td>\n",
       "      <td>2010-10-12</td>\n",
       "      <td>2012-10-13</td>\n",
       "      <td>MVD</td>\n",
       "      <td>Paul</td>\n",
       "      <td>VIC</td>\n",
       "      <td>AU</td>\n",
       "      <td>06-03-1987</td>\n",
       "      <td>A</td>\n",
       "    </tr>\n",
       "  </tbody>\n",
       "</table>\n",
       "</div>"
      ],
      "text/plain": [
       "  Customer_Name Customer_Id   Open_Date Last_Consulted_Date Vaccination_Id  \\\n",
       "0         Jacob        1256  2010-10-12          2012-10-13            MVD   \n",
       "\n",
       "  Dr_Name State Country         DOB Is_Active  \n",
       "0    Paul   VIC      AU  06-03-1987         A  "
      ]
     },
     "execution_count": 24,
     "metadata": {},
     "output_type": "execute_result"
    }
   ],
   "source": [
    "\n",
    "df = pd.read_sql_query(\"SELECT * from AU\", con)\n",
    "df"
   ]
  },
  {
   "cell_type": "code",
   "execution_count": null,
   "id": "fc650281",
   "metadata": {},
   "outputs": [],
   "source": []
  }
 ],
 "metadata": {
  "kernelspec": {
   "display_name": "Python 3",
   "language": "python",
   "name": "python3"
  },
  "language_info": {
   "codemirror_mode": {
    "name": "ipython",
    "version": 3
   },
   "file_extension": ".py",
   "mimetype": "text/x-python",
   "name": "python",
   "nbconvert_exporter": "python",
   "pygments_lexer": "ipython3",
   "version": "3.8.8"
  }
 },
 "nbformat": 4,
 "nbformat_minor": 5
}
